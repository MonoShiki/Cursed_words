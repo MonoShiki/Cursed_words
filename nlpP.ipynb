{
 "cells": [
  {
   "cell_type": "code",
   "execution_count": 22,
   "metadata": {
    "collapsed": true,
    "ExecuteTime": {
     "end_time": "2023-09-16T20:23:48.077830600Z",
     "start_time": "2023-09-16T20:23:48.029745600Z"
    }
   },
   "outputs": [
    {
     "name": "stderr",
     "output_type": "stream",
     "text": [
      "[nltk_data] Downloading package stopwords to\n",
      "[nltk_data]     C:\\Users\\isada\\AppData\\Roaming\\nltk_data...\n",
      "[nltk_data]   Package stopwords is already up-to-date!\n",
      "[nltk_data] Downloading package punkt to\n",
      "[nltk_data]     C:\\Users\\isada\\AppData\\Roaming\\nltk_data...\n",
      "[nltk_data]   Package punkt is already up-to-date!\n",
      "[nltk_data] Downloading package wordnet to\n",
      "[nltk_data]     C:\\Users\\isada\\AppData\\Roaming\\nltk_data...\n",
      "[nltk_data]   Package wordnet is already up-to-date!\n",
      "[nltk_data] Downloading package omw-1.4 to\n",
      "[nltk_data]     C:\\Users\\isada\\AppData\\Roaming\\nltk_data...\n",
      "[nltk_data]   Package omw-1.4 is already up-to-date!\n"
     ]
    }
   ],
   "source": [
    "import pandas as pd\n",
    "import numpy as np\n",
    "import seaborn as sns\n",
    "import re\n",
    "import nltk\n",
    "\n",
    "import warnings\n",
    "warnings.filterwarnings('ignore')\n",
    "nltk.download(\"stopwords\") # поддерживает удаление стоп-слов\n",
    "nltk.download('punkt') # делит текст на список предложений\n",
    "nltk.download('wordnet') # проводит лемматизацию\n",
    "nltk.download('omw-1.4') # проводит лемматизацию\n",
    "stopw = nltk.corpus.stopwords.words('russian')"
   ]
  },
  {
   "cell_type": "markdown",
   "source": [],
   "metadata": {
    "collapsed": false
   }
  },
  {
   "cell_type": "code",
   "execution_count": 23,
   "outputs": [],
   "source": [
    "dp = pd.read_csv(\"labeled.csv\")\n",
    "dp[\"toxic\"] = dp[\"toxic\"].astype(np.int32)\n",
    "dp.rename(columns={\"toxic\":\"is_violent\"},inplace=True)"
   ],
   "metadata": {
    "collapsed": false,
    "ExecuteTime": {
     "end_time": "2023-09-16T20:23:48.275886700Z",
     "start_time": "2023-09-16T20:23:48.038823200Z"
    }
   }
  },
  {
   "cell_type": "code",
   "execution_count": 24,
   "outputs": [
    {
     "data": {
      "text/plain": "<Axes: xlabel='is_violent', ylabel='count'>"
     },
     "execution_count": 24,
     "metadata": {},
     "output_type": "execute_result"
    },
    {
     "data": {
      "text/plain": "<Figure size 640x480 with 1 Axes>",
      "image/png": "[encoded data removed]"
     },
     "metadata": {},
     "output_type": "display_data"
    }
   ],
   "source": [
    "sns.countplot(data=dp, x=\"is_violent\")"
   ],
   "metadata": {
    "collapsed": false,
    "ExecuteTime": {
     "end_time": "2023-09-16T20:23:48.290895500Z",
     "start_time": "2023-09-16T20:23:48.157400100Z"
    }
   }
  },
  {
   "cell_type": "code",
   "execution_count": 25,
   "outputs": [],
   "source": [
    "import pymorphy3\n",
    "morph = pymorphy3.MorphAnalyzer()\n",
    "regular_s = re.compile(r'[а-яё]+')\n",
    "\n",
    "def tokenize(sentence:str)->list[str]:\n",
    "    sentence = sentence.lower().strip()\n",
    "    sentence = regular_s.findall(sentence)\n",
    "    return [token for token in sentence]\n",
    "\n",
    "def morph_stopper(list_of_tokens:list[str])->list[str]:\n",
    "    return [morph.parse(word)[0].normal_form for word in list_of_tokens if len(word)>2]\n",
    "\n",
    "def stop_words(list_of_morphs:list[str])->list[str]:\n",
    "    return [word for word in list_of_morphs if word not in stopw]\n",
    "\n",
    "def cleaner(sentence:str)->str:\n",
    "    return \" \".join(stop_words(morph_stopper(tokenize(sentence))))\n"
   ],
   "metadata": {
    "collapsed": false,
    "ExecuteTime": {
     "end_time": "2023-09-16T20:23:48.385736300Z",
     "start_time": "2023-09-16T20:23:48.270886800Z"
    }
   }
  },
  {
   "cell_type": "code",
   "execution_count": 26,
   "outputs": [],
   "source": [
    "dp['comment'] = dp['comment'].apply(lambda x:cleaner(x))\n",
    "dp.dropna(subset='comment',inplace=True)\n",
    "dp.drop_duplicates(subset='comment',inplace=True)"
   ],
   "metadata": {
    "collapsed": false,
    "ExecuteTime": {
     "end_time": "2023-09-16T20:24:19.382453900Z",
     "start_time": "2023-09-16T20:23:48.386743500Z"
    }
   }
  },
  {
   "cell_type": "code",
   "execution_count": 27,
   "outputs": [],
   "source": [
    "dp = dp.drop_duplicates(subset='comment')"
   ],
   "metadata": {
    "collapsed": false,
    "ExecuteTime": {
     "end_time": "2023-09-16T20:24:19.400745300Z",
     "start_time": "2023-09-16T20:24:19.387455600Z"
    }
   }
  },
  {
   "cell_type": "code",
   "execution_count": 28,
   "outputs": [],
   "source": [
    "from sklearn.model_selection import train_test_split\n",
    "train_data, test_data = train_test_split(dp, test_size = .33, random_state = 300,stratify=dp['is_violent'])"
   ],
   "metadata": {
    "collapsed": false,
    "ExecuteTime": {
     "end_time": "2023-09-16T20:24:19.431399300Z",
     "start_time": "2023-09-16T20:24:19.400745300Z"
    }
   }
  },
  {
   "cell_type": "markdown",
   "source": [
    "#Vectorize"
   ],
   "metadata": {
    "collapsed": false
   }
  },
  {
   "cell_type": "code",
   "execution_count": 29,
   "outputs": [
    {
     "data": {
      "text/plain": "Pipeline(steps=[('vectorizer',\n                 TfidfVectorizer(analyzer='char_wb', max_df=0.8, min_df=10,\n                                 ngram_range=(2, 4),\n                                 tokenizer=<function cleaner at 0x000001539DEE47C0>)),\n                ('model', LogisticRegression(max_iter=200, random_state=0))])",
      "text/html": "<style>#sk-container-id-2 {color: black;}#sk-container-id-2 pre{padding: 0;}#sk-container-id-2 div.sk-toggleable {background-color: white;}#sk-container-id-2 label.sk-toggleable__label {cursor: pointer;display: block;width: 100%;margin-bottom: 0;padding: 0.3em;box-sizing: border-box;text-align: center;}#sk-container-id-2 label.sk-toggleable__label-arrow:before {content: \"▸\";float: left;margin-right: 0.25em;color: #696969;}#sk-container-id-2 label.sk-toggleable__label-arrow:hover:before {color: black;}#sk-container-id-2 div.sk-estimator:hover label.sk-toggleable__label-arrow:before {color: black;}#sk-container-id-2 div.sk-toggleable__content {max-height: 0;max-width: 0;overflow: hidden;text-align: left;background-color: #f0f8ff;}#sk-container-id-2 div.sk-toggleable__content pre {margin: 0.2em;color: black;border-radius: 0.25em;background-color: #f0f8ff;}#sk-container-id-2 input.sk-toggleable__control:checked~div.sk-toggleable__content {max-height: 200px;max-width: 100%;overflow: auto;}#sk-container-id-2 input.sk-toggleable__control:checked~label.sk-toggleable__label-arrow:before {content: \"▾\";}#sk-container-id-2 div.sk-estimator input.sk-toggleable__control:checked~label.sk-toggleable__label {background-color: #d4ebff;}#sk-container-id-2 div.sk-label input.sk-toggleable__control:checked~label.sk-toggleable__label {background-color: #d4ebff;}#sk-container-id-2 input.sk-hidden--visually {border: 0;clip: rect(1px 1px 1px 1px);clip: rect(1px, 1px, 1px, 1px);height: 1px;margin: -1px;overflow: hidden;padding: 0;position: absolute;width: 1px;}#sk-container-id-2 div.sk-estimator {font-family: monospace;background-color: #f0f8ff;border: 1px dotted black;border-radius: 0.25em;box-sizing: border-box;margin-bottom: 0.5em;}#sk-container-id-2 div.sk-estimator:hover {background-color: #d4ebff;}#sk-container-id-2 div.sk-parallel-item::after {content: \"\";width: 100%;border-bottom: 1px solid gray;flex-grow: 1;}#sk-container-id-2 div.sk-label:hover label.sk-toggleable__label {background-color: #d4ebff;}#sk-container-id-2 div.sk-serial::before {content: \"\";position: absolute;border-left: 1px solid gray;box-sizing: border-box;top: 0;bottom: 0;left: 50%;z-index: 0;}#sk-container-id-2 div.sk-serial {display: flex;flex-direction: column;align-items: center;background-color: white;padding-right: 0.2em;padding-left: 0.2em;position: relative;}#sk-container-id-2 div.sk-item {position: relative;z-index: 1;}#sk-container-id-2 div.sk-parallel {display: flex;align-items: stretch;justify-content: center;background-color: white;position: relative;}#sk-container-id-2 div.sk-item::before, #sk-container-id-2 div.sk-parallel-item::before {content: \"\";position: absolute;border-left: 1px solid gray;box-sizing: border-box;top: 0;bottom: 0;left: 50%;z-index: -1;}#sk-container-id-2 div.sk-parallel-item {display: flex;flex-direction: column;z-index: 1;position: relative;background-color: white;}#sk-container-id-2 div.sk-parallel-item:first-child::after {align-self: flex-end;width: 50%;}#sk-container-id-2 div.sk-parallel-item:last-child::after {align-self: flex-start;width: 50%;}#sk-container-id-2 div.sk-parallel-item:only-child::after {width: 0;}#sk-container-id-2 div.sk-dashed-wrapped {border: 1px dashed gray;margin: 0 0.4em 0.5em 0.4em;box-sizing: border-box;padding-bottom: 0.4em;background-color: white;}#sk-container-id-2 div.sk-label label {font-family: monospace;font-weight: bold;display: inline-block;line-height: 1.2em;}#sk-container-id-2 div.sk-label-container {text-align: center;}#sk-container-id-2 div.sk-container {/* jupyter's `normalize.less` sets `[hidden] { display: none; }` but bootstrap.min.css set `[hidden] { display: none !important; }` so we also need the `!important` here to be able to override the default hidden behavior on the sphinx rendered scikit-learn.org. See: https://github.com/scikit-learn/scikit-learn/issues/21755 */display: inline-block !important;position: relative;}#sk-container-id-2 div.sk-text-repr-fallback {display: none;}</style><div id=\"sk-container-id-2\" class=\"sk-top-container\"><div class=\"sk-text-repr-fallback\"><pre>Pipeline(steps=[(&#x27;vectorizer&#x27;,\n                 TfidfVectorizer(analyzer=&#x27;char_wb&#x27;, max_df=0.8, min_df=10,\n                                 ngram_range=(2, 4),\n                                 tokenizer=&lt;function cleaner at 0x000001539DEE47C0&gt;)),\n                (&#x27;model&#x27;, LogisticRegression(max_iter=200, random_state=0))])</pre><b>In a Jupyter environment, please rerun this cell to show the HTML representation or trust the notebook. <br />On GitHub, the HTML representation is unable to render, please try loading this page with nbviewer.org.</b></div><div class=\"sk-container\" hidden><div class=\"sk-item sk-dashed-wrapped\"><div class=\"sk-label-container\"><div class=\"sk-label sk-toggleable\"><input class=\"sk-toggleable__control sk-hidden--visually\" id=\"sk-estimator-id-4\" type=\"checkbox\" ><label for=\"sk-estimator-id-4\" class=\"sk-toggleable__label sk-toggleable__label-arrow\">Pipeline</label><div class=\"sk-toggleable__content\"><pre>Pipeline(steps=[(&#x27;vectorizer&#x27;,\n                 TfidfVectorizer(analyzer=&#x27;char_wb&#x27;, max_df=0.8, min_df=10,\n                                 ngram_range=(2, 4),\n                                 tokenizer=&lt;function cleaner at 0x000001539DEE47C0&gt;)),\n                (&#x27;model&#x27;, LogisticRegression(max_iter=200, random_state=0))])</pre></div></div></div><div class=\"sk-serial\"><div class=\"sk-item\"><div class=\"sk-estimator sk-toggleable\"><input class=\"sk-toggleable__control sk-hidden--visually\" id=\"sk-estimator-id-5\" type=\"checkbox\" ><label for=\"sk-estimator-id-5\" class=\"sk-toggleable__label sk-toggleable__label-arrow\">TfidfVectorizer</label><div class=\"sk-toggleable__content\"><pre>TfidfVectorizer(analyzer=&#x27;char_wb&#x27;, max_df=0.8, min_df=10, ngram_range=(2, 4),\n                tokenizer=&lt;function cleaner at 0x000001539DEE47C0&gt;)</pre></div></div></div><div class=\"sk-item\"><div class=\"sk-estimator sk-toggleable\"><input class=\"sk-toggleable__control sk-hidden--visually\" id=\"sk-estimator-id-6\" type=\"checkbox\" ><label for=\"sk-estimator-id-6\" class=\"sk-toggleable__label sk-toggleable__label-arrow\">LogisticRegression</label><div class=\"sk-toggleable__content\"><pre>LogisticRegression(max_iter=200, random_state=0)</pre></div></div></div></div></div></div></div>"
     },
     "execution_count": 29,
     "metadata": {},
     "output_type": "execute_result"
    }
   ],
   "source": [
    "from sklearn.feature_extraction.text import TfidfVectorizer\n",
    "from sklearn.linear_model import LogisticRegression\n",
    "from sklearn.pipeline import Pipeline\n",
    "# from gensim.models import Word2Vec\n",
    "\n",
    "\n",
    "model_pipeline = Pipeline([\n",
    "    ('vectorizer', TfidfVectorizer(tokenizer = cleaner,ngram_range=(2, 4), analyzer='char_wb', max_df=0.8, min_df=10)),\n",
    "    ('model', LogisticRegression(random_state = 0,max_iter=200))\n",
    "])\n",
    "model_pipeline.fit(train_data['comment'], train_data['is_violent'])"
   ],
   "metadata": {
    "collapsed": false,
    "ExecuteTime": {
     "end_time": "2023-09-16T20:24:21.631283400Z",
     "start_time": "2023-09-16T20:24:19.422398300Z"
    }
   }
  },
  {
   "cell_type": "code",
   "execution_count": 30,
   "outputs": [
    {
     "name": "stdout",
     "output_type": "stream",
     "text": [
      "Precision: 0.8957996768982229\n",
      "Recall: 0.7122671804752729\n"
     ]
    }
   ],
   "source": [
    "from sklearn.metrics import precision_score, recall_score\n",
    "\n",
    "print(f\"Precision: {precision_score(test_data['is_violent'], model_pipeline.predict(test_data['comment']))}\")\n",
    "print(f\"Recall: {recall_score(test_data['is_violent'], model_pipeline.predict(test_data['comment']))}\")"
   ],
   "metadata": {
    "collapsed": false,
    "ExecuteTime": {
     "end_time": "2023-09-16T20:24:23.257584500Z",
     "start_time": "2023-09-16T20:24:21.717936Z"
    }
   }
  },
  {
   "cell_type": "markdown",
   "source": [
    "Final Phase"
   ],
   "metadata": {
    "collapsed": false
   }
  },
  {
   "cell_type": "code",
   "execution_count": 33,
   "outputs": [
    {
     "name": "stdout",
     "output_type": "stream",
     "text": [
      "Fitting 5 folds for each of 3 candidates, totalling 15 fits\n",
      "[CV 1/5] END ......................model__C=0.1;, score=0.766 total time=   1.9s\n",
      "[CV 2/5] END ......................model__C=0.1;, score=0.771 total time=   2.2s\n",
      "[CV 3/5] END ......................model__C=0.1;, score=0.769 total time=   1.7s\n",
      "[CV 4/5] END ......................model__C=0.1;, score=0.764 total time=   1.7s\n",
      "[CV 5/5] END ......................model__C=0.1;, score=0.769 total time=   1.7s\n",
      "[CV 1/5] END ........................model__C=1;, score=0.869 total time=   1.9s\n",
      "[CV 2/5] END ........................model__C=1;, score=0.875 total time=   1.9s\n",
      "[CV 3/5] END ........................model__C=1;, score=0.875 total time=   2.0s\n",
      "[CV 4/5] END ........................model__C=1;, score=0.862 total time=   2.0s\n",
      "[CV 5/5] END ........................model__C=1;, score=0.872 total time=   2.0s\n",
      "[CV 1/5] END .....................model__C=10.0;, score=0.878 total time=   2.1s\n",
      "[CV 2/5] END .....................model__C=10.0;, score=0.887 total time=   2.5s\n",
      "[CV 3/5] END .....................model__C=10.0;, score=0.888 total time=   2.4s\n",
      "[CV 4/5] END .....................model__C=10.0;, score=0.880 total time=   3.0s\n",
      "[CV 5/5] END .....................model__C=10.0;, score=0.881 total time=   2.7s\n",
      "Наилучшие параметры:  {'model__C': 10.0}\n",
      "Наилучшее значение метрики:  0.8825512879942833\n"
     ]
    }
   ],
   "source": [
    "from sklearn.model_selection import GridSearchCV\n",
    "param_grid = {'model__C': [0.1, 1, 10.]}\n",
    "grid_search= GridSearchCV(model_pipeline,param_grid,cv=5,verbose=4)\n",
    "grid_search.fit(train_data.comment,train_data.is_violent)\n",
    "print(\"Наилучшие параметры: \", grid_search.best_params_)\n",
    "print(\"Наилучшее значение метрики: \", grid_search.best_score_)"
   ],
   "metadata": {
    "collapsed": false,
    "ExecuteTime": {
     "end_time": "2023-09-16T20:25:49.926164600Z",
     "start_time": "2023-09-16T20:25:13.639475500Z"
    }
   }
  },
  {
   "cell_type": "code",
   "execution_count": 34,
   "outputs": [
    {
     "data": {
      "text/plain": "Pipeline(steps=[('vectorizer',\n                 TfidfVectorizer(analyzer='char_wb', max_df=0.8, min_df=10,\n                                 ngram_range=(2, 4),\n                                 tokenizer=<function cleaner at 0x000001539DEE47C0>)),\n                ('model',\n                 LogisticRegression(C=10, max_iter=200, random_state=0))])",
      "text/html": "<style>#sk-container-id-3 {color: black;}#sk-container-id-3 pre{padding: 0;}#sk-container-id-3 div.sk-toggleable {background-color: white;}#sk-container-id-3 label.sk-toggleable__label {cursor: pointer;display: block;width: 100%;margin-bottom: 0;padding: 0.3em;box-sizing: border-box;text-align: center;}#sk-container-id-3 label.sk-toggleable__label-arrow:before {content: \"▸\";float: left;margin-right: 0.25em;color: #696969;}#sk-container-id-3 label.sk-toggleable__label-arrow:hover:before {color: black;}#sk-container-id-3 div.sk-estimator:hover label.sk-toggleable__label-arrow:before {color: black;}#sk-container-id-3 div.sk-toggleable__content {max-height: 0;max-width: 0;overflow: hidden;text-align: left;background-color: #f0f8ff;}#sk-container-id-3 div.sk-toggleable__content pre {margin: 0.2em;color: black;border-radius: 0.25em;background-color: #f0f8ff;}#sk-container-id-3 input.sk-toggleable__control:checked~div.sk-toggleable__content {max-height: 200px;max-width: 100%;overflow: auto;}#sk-container-id-3 input.sk-toggleable__control:checked~label.sk-toggleable__label-arrow:before {content: \"▾\";}#sk-container-id-3 div.sk-estimator input.sk-toggleable__control:checked~label.sk-toggleable__label {background-color: #d4ebff;}#sk-container-id-3 div.sk-label input.sk-toggleable__control:checked~label.sk-toggleable__label {background-color: #d4ebff;}#sk-container-id-3 input.sk-hidden--visually {border: 0;clip: rect(1px 1px 1px 1px);clip: rect(1px, 1px, 1px, 1px);height: 1px;margin: -1px;overflow: hidden;padding: 0;position: absolute;width: 1px;}#sk-container-id-3 div.sk-estimator {font-family: monospace;background-color: #f0f8ff;border: 1px dotted black;border-radius: 0.25em;box-sizing: border-box;margin-bottom: 0.5em;}#sk-container-id-3 div.sk-estimator:hover {background-color: #d4ebff;}#sk-container-id-3 div.sk-parallel-item::after {content: \"\";width: 100%;border-bottom: 1px solid gray;flex-grow: 1;}#sk-container-id-3 div.sk-label:hover label.sk-toggleable__label {background-color: #d4ebff;}#sk-container-id-3 div.sk-serial::before {content: \"\";position: absolute;border-left: 1px solid gray;box-sizing: border-box;top: 0;bottom: 0;left: 50%;z-index: 0;}#sk-container-id-3 div.sk-serial {display: flex;flex-direction: column;align-items: center;background-color: white;padding-right: 0.2em;padding-left: 0.2em;position: relative;}#sk-container-id-3 div.sk-item {position: relative;z-index: 1;}#sk-container-id-3 div.sk-parallel {display: flex;align-items: stretch;justify-content: center;background-color: white;position: relative;}#sk-container-id-3 div.sk-item::before, #sk-container-id-3 div.sk-parallel-item::before {content: \"\";position: absolute;border-left: 1px solid gray;box-sizing: border-box;top: 0;bottom: 0;left: 50%;z-index: -1;}#sk-container-id-3 div.sk-parallel-item {display: flex;flex-direction: column;z-index: 1;position: relative;background-color: white;}#sk-container-id-3 div.sk-parallel-item:first-child::after {align-self: flex-end;width: 50%;}#sk-container-id-3 div.sk-parallel-item:last-child::after {align-self: flex-start;width: 50%;}#sk-container-id-3 div.sk-parallel-item:only-child::after {width: 0;}#sk-container-id-3 div.sk-dashed-wrapped {border: 1px dashed gray;margin: 0 0.4em 0.5em 0.4em;box-sizing: border-box;padding-bottom: 0.4em;background-color: white;}#sk-container-id-3 div.sk-label label {font-family: monospace;font-weight: bold;display: inline-block;line-height: 1.2em;}#sk-container-id-3 div.sk-label-container {text-align: center;}#sk-container-id-3 div.sk-container {/* jupyter's `normalize.less` sets `[hidden] { display: none; }` but bootstrap.min.css set `[hidden] { display: none !important; }` so we also need the `!important` here to be able to override the default hidden behavior on the sphinx rendered scikit-learn.org. See: https://github.com/scikit-learn/scikit-learn/issues/21755 */display: inline-block !important;position: relative;}#sk-container-id-3 div.sk-text-repr-fallback {display: none;}</style><div id=\"sk-container-id-3\" class=\"sk-top-container\"><div class=\"sk-text-repr-fallback\"><pre>Pipeline(steps=[(&#x27;vectorizer&#x27;,\n                 TfidfVectorizer(analyzer=&#x27;char_wb&#x27;, max_df=0.8, min_df=10,\n                                 ngram_range=(2, 4),\n                                 tokenizer=&lt;function cleaner at 0x000001539DEE47C0&gt;)),\n                (&#x27;model&#x27;,\n                 LogisticRegression(C=10, max_iter=200, random_state=0))])</pre><b>In a Jupyter environment, please rerun this cell to show the HTML representation or trust the notebook. <br />On GitHub, the HTML representation is unable to render, please try loading this page with nbviewer.org.</b></div><div class=\"sk-container\" hidden><div class=\"sk-item sk-dashed-wrapped\"><div class=\"sk-label-container\"><div class=\"sk-label sk-toggleable\"><input class=\"sk-toggleable__control sk-hidden--visually\" id=\"sk-estimator-id-7\" type=\"checkbox\" ><label for=\"sk-estimator-id-7\" class=\"sk-toggleable__label sk-toggleable__label-arrow\">Pipeline</label><div class=\"sk-toggleable__content\"><pre>Pipeline(steps=[(&#x27;vectorizer&#x27;,\n                 TfidfVectorizer(analyzer=&#x27;char_wb&#x27;, max_df=0.8, min_df=10,\n                                 ngram_range=(2, 4),\n                                 tokenizer=&lt;function cleaner at 0x000001539DEE47C0&gt;)),\n                (&#x27;model&#x27;,\n                 LogisticRegression(C=10, max_iter=200, random_state=0))])</pre></div></div></div><div class=\"sk-serial\"><div class=\"sk-item\"><div class=\"sk-estimator sk-toggleable\"><input class=\"sk-toggleable__control sk-hidden--visually\" id=\"sk-estimator-id-8\" type=\"checkbox\" ><label for=\"sk-estimator-id-8\" class=\"sk-toggleable__label sk-toggleable__label-arrow\">TfidfVectorizer</label><div class=\"sk-toggleable__content\"><pre>TfidfVectorizer(analyzer=&#x27;char_wb&#x27;, max_df=0.8, min_df=10, ngram_range=(2, 4),\n                tokenizer=&lt;function cleaner at 0x000001539DEE47C0&gt;)</pre></div></div></div><div class=\"sk-item\"><div class=\"sk-estimator sk-toggleable\"><input class=\"sk-toggleable__control sk-hidden--visually\" id=\"sk-estimator-id-9\" type=\"checkbox\" ><label for=\"sk-estimator-id-9\" class=\"sk-toggleable__label sk-toggleable__label-arrow\">LogisticRegression</label><div class=\"sk-toggleable__content\"><pre>LogisticRegression(C=10, max_iter=200, random_state=0)</pre></div></div></div></div></div></div></div>"
     },
     "execution_count": 34,
     "metadata": {},
     "output_type": "execute_result"
    }
   ],
   "source": [
    "best_pipe = Pipeline([\n",
    "    ('vectorizer', TfidfVectorizer(tokenizer = cleaner,ngram_range=(2, 4), analyzer='char_wb', max_df=0.8, min_df=10)),\n",
    "    ('model', LogisticRegression(random_state = 0,C=10,max_iter=200))\n",
    "])\n",
    "best_pipe.fit(train_data['comment'], train_data['is_violent'])"
   ],
   "metadata": {
    "collapsed": false,
    "ExecuteTime": {
     "end_time": "2023-09-16T20:25:52.768110800Z",
     "start_time": "2023-09-16T20:25:50.038189Z"
    }
   }
  },
  {
   "cell_type": "code",
   "execution_count": 35,
   "outputs": [
    {
     "data": {
      "text/plain": "0.8874356775300172"
     },
     "execution_count": 35,
     "metadata": {},
     "output_type": "execute_result"
    }
   ],
   "source": [
    "best_pipe.score(test_data['comment'],test_data['is_violent'])"
   ],
   "metadata": {
    "collapsed": false,
    "ExecuteTime": {
     "end_time": "2023-09-16T20:25:53.552957800Z",
     "start_time": "2023-09-16T20:25:52.762085100Z"
    }
   }
  },
  {
   "cell_type": "code",
   "execution_count": 36,
   "outputs": [
    {
     "data": {
      "text/plain": "(array([3818, 3819, 3820, 3821, 3822, 3823, 3839, 3840, 3841, 3842, 3843,\n        3860, 3861, 3862, 3863, 3867, 3868, 3869, 3870, 3871, 3872, 3873,\n        3874, 3875, 3876, 3877, 3878, 3879, 3880, 3881, 3882, 3883, 3898,\n        3899, 3900, 3901, 3902, 3903, 3904, 3905, 3906, 3907, 3908, 3909,\n        3910, 3911, 3912, 3913, 3914, 3915, 3916, 3917, 3918, 3919, 3920,\n        3921, 3922, 3923, 3924, 3925, 3926, 3927, 3928, 3929, 3930, 3931,\n        3932, 3933, 3934, 3935, 3936, 3937, 3938, 3939, 3940, 3941, 3942,\n        3943, 3944, 3945, 3946, 3947, 3948, 3949, 3950, 3951, 3952, 3953,\n        3954, 3955, 3956, 3957, 3958, 3959, 3960, 3961, 3962, 3963, 3964,\n        3965, 3966, 3967, 3968, 3969, 3970, 3971, 3972, 3973, 3974, 3975,\n        3976, 3977, 3978, 3979, 3980, 3981, 3982, 3983, 3984, 3985, 3986,\n        3987, 3988, 3989, 3990, 3991, 3992, 3993, 3994, 3995, 3996, 3997,\n        3998, 3999, 4000, 4001, 4002, 4003, 4004, 4005, 4006, 4007, 4008,\n        4009, 4010, 4011, 4012, 4013, 4014, 4015, 4016, 4017, 4018, 4019,\n        4020, 4021, 4022, 4023, 4024, 4025, 4026, 4027, 4028, 4029, 4030,\n        4031, 4032, 4033, 4034, 4035, 4036, 4037, 4038, 4039, 4040, 4041,\n        4042, 4043, 4044, 4045, 4046, 4047, 4048, 4049, 4050, 4051, 4052,\n        4053, 4054, 4055, 4056, 4057, 4058, 4059, 4060, 4061, 4062, 4063,\n        4064, 4065, 4066, 4067, 4068, 4069, 4070, 4071, 4072, 4073, 4074,\n        4075, 4076, 4077, 4078, 4079, 4080, 4081, 4082, 4083, 4084, 4085,\n        4086, 4087, 4088, 4089, 4090, 4091, 4092, 4093, 4094, 4095, 4096,\n        4097, 4098, 4099, 4100, 4101, 4102, 4103, 4104, 4105, 4106, 4107,\n        4108, 4109, 4110, 4111, 4112, 4113, 4114, 4115, 4116, 4117, 4118,\n        4119, 4120, 4121, 4122, 4123, 4124, 4125, 4126, 4127, 4128, 4129,\n        4130, 4131, 4132, 4133, 4134, 4135, 4136, 4137, 4138, 4139, 4140,\n        4141, 4142, 4143, 4144, 4145, 4146, 4147, 4148, 4149, 4150, 4151,\n        4152, 4153, 4154, 4155, 4156, 4157, 4158, 4159, 4160, 4161, 4162,\n        4163, 4164, 4165, 4166, 4167, 4168, 4169, 4170, 4171, 4172, 4173,\n        4174, 4175, 4176, 4177, 4178, 4179, 4180, 4181, 4182, 4183, 4184,\n        4185, 4186, 4187, 4188, 4189, 4190, 4191, 4192, 4193, 4194, 4195,\n        4196, 4197, 4198, 4199, 4200, 4201, 4202, 4203, 4204, 4205, 4206,\n        4207, 4208, 4209, 4210, 4211, 4212, 4213, 4214, 4215, 4216, 4217,\n        4218, 4219, 4220, 4221, 4222, 4223, 4224, 4225, 4226, 4227, 4228,\n        4229, 4230, 4231, 4232, 4233, 4234, 4235, 4236, 4237, 4238, 4239,\n        4240, 4241, 4242, 4243, 4244, 4245, 4246, 4247, 4248, 4249, 4250,\n        4251, 4252, 4253, 4254, 4255, 4256, 4257, 4258, 4259, 4260, 4261,\n        4262, 4263, 4264, 4265, 4266, 4267, 4268, 4269, 4270, 4271, 4272,\n        4273, 4274, 4275, 4276, 4277, 4278, 4279, 4280, 4281, 4282, 4283,\n        4284, 4285, 4286, 4287, 4288, 4289, 4290, 4291, 4292, 4293, 4294,\n        4295, 4296, 4297, 4298, 4299, 4300, 4301, 4302, 4303, 4304, 4305,\n        4306, 4307, 4308, 4309, 4310, 4311, 4312, 4313, 4314, 4315, 4316,\n        4317, 4318, 4319, 4320, 4321, 4322, 4323, 4324, 4325, 4326, 4327,\n        4328, 4329, 4330, 4331, 4332, 4333, 4334, 4335, 4336, 4337, 4338,\n        4339, 4340, 4341, 4342, 4343, 4344, 4345, 4346, 4347, 4348, 4349,\n        4350, 4351, 4352, 4353, 4354, 4355, 4356, 4357, 4358, 4359, 4360,\n        4361, 4362, 4363, 4364, 4365, 4366, 4367, 4368, 4369, 4370, 4371,\n        4372, 4373, 4374, 4375, 4376, 4377, 4378, 4379, 4380, 4381, 4382,\n        4383, 4384, 4385, 4386, 4387, 4388, 4389, 4390, 4391, 4392, 4393,\n        4394, 4395, 4396, 4397, 4398, 4399, 4400, 4401, 4402, 4403, 4404,\n        4405, 4406, 4407, 4408, 4409, 4410, 4411, 4412, 4413, 4414, 4415,\n        4416, 4417, 4418, 4419, 4420, 4421, 4422, 4423, 4424, 4425, 4426,\n        4427, 4428, 4429, 4430, 4431, 4432, 4433, 4434, 4435, 4436, 4437,\n        4438, 4439, 4440, 4441, 4442, 4443, 4444, 4445, 4446, 4447, 4448,\n        4449, 4450, 4451, 4452, 4453, 4454, 4455, 4456, 4457, 4458, 4459,\n        4460, 4461, 4462, 4463, 4464, 4465, 4466, 4467, 4468, 4469, 4470,\n        4471, 4472, 4473, 4474, 4475, 4476, 4477, 4478, 4479, 4480, 4481,\n        4482, 4483, 4484, 4485, 4486, 4487, 4488, 4489, 4490, 4491, 4492,\n        4493, 4494, 4495, 4496, 4497, 4498, 4499, 4500, 4501, 4502, 4503,\n        4504, 4505, 4506, 4507, 4508, 4509, 4510, 4511, 4512, 4513, 4514,\n        4515, 4516, 4517, 4518, 4519, 4520, 4521, 4522, 4523, 4524, 4525,\n        4526, 4527, 4528, 4529, 4530, 4531, 4532, 4533, 4534, 4535, 4536,\n        4537, 4538, 4539, 4540, 4541, 4542, 4543, 4544, 4545, 4546, 4547,\n        4548, 4549, 4550, 4551, 4552, 4553, 4554, 4555, 4556, 4557, 4558,\n        4559, 4560, 4561, 4562, 4563, 4564, 4565, 4566, 4567, 4568, 4569,\n        4570, 4571, 4572, 4573, 4574, 4575, 4576, 4577, 4578, 4579, 4580,\n        4581, 4582, 4583, 4584, 4585, 4586, 4587, 4588, 4589, 4590, 4591,\n        4592, 4593, 4594, 4595, 4596, 4597, 4598, 4599, 4600, 4601, 4602,\n        4603, 4604, 4605, 4606, 4607, 4608, 4609, 4610, 4611, 4612, 4613,\n        4614, 4615, 4616, 4617, 4618, 4619, 4620, 4621, 4622, 4623, 4624,\n        4625, 4626, 4627, 4628, 4629, 4630, 4631, 4632, 4633, 4634, 4635,\n        4636, 4637, 4638, 4639, 4640, 4641, 4642, 4643, 4644, 4645, 4646,\n        4647, 4648, 4649, 4650, 4651, 4652, 4653, 4654, 4655, 4656, 4657,\n        4658, 4659, 4660, 4661, 4662, 4663, 4664], dtype=int64),)"
     },
     "execution_count": 36,
     "metadata": {},
     "output_type": "execute_result"
    }
   ],
   "source": [
    "from sklearn.metrics import precision_recall_curve\n",
    "\n",
    "prec, rec, thresholds = precision_recall_curve(test_data['is_violent'], best_pipe.predict_proba(test_data['comment'])[:, 1])\n",
    "np.where(prec > 0.95)"
   ],
   "metadata": {
    "collapsed": false,
    "ExecuteTime": {
     "end_time": "2023-09-16T20:25:54.356538500Z",
     "start_time": "2023-09-16T20:25:53.608952800Z"
    }
   }
  },
  {
   "cell_type": "code",
   "execution_count": 43,
   "outputs": [
    {
     "name": "stdout",
     "output_type": "stream",
     "text": [
      "Precision: 0.9502958579881656\n",
      "Recall: 0.5157353885677585\n"
     ]
    }
   ],
   "source": [
    "trash_talk_coef = thresholds[3818]\n",
    "print(f\"Precision: {precision_score(test_data['is_violent'], best_pipe.predict_proba(test_data['comment'])[:, 1] > trash_talk_coef)}\")\n",
    "print(f\"Recall: {recall_score(test_data['is_violent'], best_pipe.predict_proba(test_data['comment'])[:, 1] > trash_talk_coef)}\")"
   ],
   "metadata": {
    "collapsed": false,
    "ExecuteTime": {
     "end_time": "2023-09-16T20:27:59.535829Z",
     "start_time": "2023-09-16T20:27:57.494275Z"
    }
   }
  },
  {
   "cell_type": "code",
   "execution_count": 44,
   "outputs": [
    {
     "name": "stdout",
     "output_type": "stream",
     "text": [
      "0.8517369429054353\n"
     ]
    }
   ],
   "source": [
    "print(thresholds[3818])"
   ],
   "metadata": {
    "collapsed": false,
    "ExecuteTime": {
     "end_time": "2023-09-16T20:27:59.539860400Z",
     "start_time": "2023-09-16T20:27:59.528298100Z"
    }
   }
  },
  {
   "cell_type": "code",
   "execution_count": 39,
   "outputs": [
    {
     "data": {
      "text/plain": "['final_model.joblib']"
     },
     "execution_count": 39,
     "metadata": {},
     "output_type": "execute_result"
    }
   ],
   "source": [
    "import joblib\n",
    "joblib.dump(best_pipe, 'final_model.joblib')"
   ],
   "metadata": {
    "collapsed": false,
    "ExecuteTime": {
     "end_time": "2023-09-16T20:25:57.674801Z",
     "start_time": "2023-09-16T20:25:57.541637500Z"
    }
   }
  }
 ],
 "metadata": {
  "kernelspec": {
   "display_name": "Python 3",
   "language": "python",
   "name": "python3"
  },
  "language_info": {
   "codemirror_mode": {
    "name": "ipython",
    "version": 2
   },
   "file_extension": ".py",
   "mimetype": "text/x-python",
   "name": "python",
   "nbconvert_exporter": "python",
   "pygments_lexer": "ipython2",
   "version": "2.7.6"
  }
 },
 "nbformat": 4,
 "nbformat_minor": 0
}
